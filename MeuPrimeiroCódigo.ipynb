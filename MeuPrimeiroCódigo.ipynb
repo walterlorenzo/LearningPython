{
 "cells": [
  {
   "cell_type": "code",
   "execution_count": 1,
   "id": "cd282d3c",
   "metadata": {},
   "outputs": [
    {
     "name": "stdout",
     "output_type": "stream",
     "text": [
      "Walter\n"
     ]
    }
   ],
   "source": [
    "print (\"Walter\")\n"
   ]
  },
  {
   "cell_type": "code",
   "execution_count": 2,
   "id": "faf0f970",
   "metadata": {},
   "outputs": [
    {
     "name": "stdout",
     "output_type": "stream",
     "text": [
      "Olá mundo\n"
     ]
    }
   ],
   "source": [
    "print(\"Olá mundo\")"
   ]
  },
  {
   "cell_type": "code",
   "execution_count": 3,
   "id": "7c5ed474",
   "metadata": {},
   "outputs": [
    {
     "name": "stdout",
     "output_type": "stream",
     "text": [
      "<class 'int'>\n",
      "<class 'str'>\n",
      "<class 'float'>\n",
      "<class 'bool'>\n"
     ]
    }
   ],
   "source": [
    "x = 10\n",
    "nome = 'aluno'\n",
    "nota = 8.75\n",
    "fez_inscricao = True\n",
    "\n",
    "print(type(x))\n",
    "print(type(nome))\n",
    "print(type(nota))\n",
    "print(type(fez_inscricao))"
   ]
  },
  {
   "cell_type": "code",
   "execution_count": 4,
   "id": "578691ba",
   "metadata": {},
   "outputs": [
    {
     "name": "stdout",
     "output_type": "stream",
     "text": [
      "Digite um nome: Walter\n",
      "Walter\n"
     ]
    }
   ],
   "source": [
    "nome = input(\"Digite um nome: \")\n",
    "print(nome)"
   ]
  },
  {
   "cell_type": "markdown",
   "id": "278f35ba",
   "metadata": {},
   "source": [
    "# 3 formas diferentes de imprimir texto e variável em Python\n"
   ]
  },
  {
   "cell_type": "code",
   "execution_count": 5,
   "id": "212f4e9a",
   "metadata": {},
   "outputs": [
    {
     "name": "stdout",
     "output_type": "stream",
     "text": [
      "Olá Walter, bem vindo a disciplina de programação. Parabéns pelo seu primeiro hello world\n"
     ]
    }
   ],
   "source": [
    "print(\"Olá %s, bem vindo a disciplina de programação. Parabéns pelo seu primeiro hello world\" % (nome))"
   ]
  },
  {
   "cell_type": "code",
   "execution_count": 7,
   "id": "8434974c",
   "metadata": {},
   "outputs": [
    {
     "name": "stdout",
     "output_type": "stream",
     "text": [
      "Olá Walter, bem vindo a disciplina de programação. Parabéns pelo seu primeiro hello world\n"
     ]
    }
   ],
   "source": [
    "print(\"Olá {}, bem vindo a disciplina de programação. Parabéns pelo seu primeiro hello world\".format(nome))"
   ]
  },
  {
   "cell_type": "code",
   "execution_count": 8,
   "id": "c16dd5b3",
   "metadata": {},
   "outputs": [
    {
     "name": "stdout",
     "output_type": "stream",
     "text": [
      "Olá Walter, bem vindo a disciplica de programação. Parabéns pelo seu primeiro hello world\n"
     ]
    }
   ],
   "source": [
    "print(f\"Olá {nome}, bem vindo a disciplica de programação. Parabéns pelo seu primeiro hello world\")"
   ]
  },
  {
   "cell_type": "markdown",
   "id": "c13ccc21",
   "metadata": {},
   "source": [
    "# Qual o resultado armazenado na variável operacao_1: 25 ou 17?"
   ]
  },
  {
   "cell_type": "code",
   "execution_count": 9,
   "id": "30f250ae",
   "metadata": {},
   "outputs": [],
   "source": [
    "operacao_1 = 2 + 3 * 5"
   ]
  },
  {
   "cell_type": "markdown",
   "id": "d6bc7bbd",
   "metadata": {},
   "source": [
    "# Qual o resultado armazenado na variável operacao_2: 25 ou 17?"
   ]
  },
  {
   "cell_type": "code",
   "execution_count": 11,
   "id": "ae7228b0",
   "metadata": {},
   "outputs": [],
   "source": [
    "operacao_2 = (2 + 3) * 5"
   ]
  },
  {
   "cell_type": "markdown",
   "id": "77a9b879",
   "metadata": {},
   "source": [
    "# Qual o resultado armazenado na variável operacao_3: 25 ou 17?"
   ]
  },
  {
   "cell_type": "code",
   "execution_count": 12,
   "id": "42d67653",
   "metadata": {},
   "outputs": [],
   "source": [
    "operacao_3 = 4 / 2 ** 2"
   ]
  },
  {
   "cell_type": "markdown",
   "id": "8f8bbff9",
   "metadata": {},
   "source": [
    "# Qual o resultado armazenado na variável operacao_4: 25 ou 17?"
   ]
  },
  {
   "cell_type": "code",
   "execution_count": 14,
   "id": "4b700025",
   "metadata": {},
   "outputs": [],
   "source": [
    "operacao_4 = 13 % 3 + 4"
   ]
  },
  {
   "cell_type": "code",
   "execution_count": 15,
   "id": "7a6656fb",
   "metadata": {},
   "outputs": [
    {
     "name": "stdout",
     "output_type": "stream",
     "text": [
      "Resultado em operacao_1 = 25\n",
      "Resultado em operacao_2 = 25\n",
      "Resultado em operacao_3 = 25\n",
      "Resultado em operacao_4 = 25\n"
     ]
    }
   ],
   "source": [
    "print(f\"Resultado em operacao_1 = {operacao_1}\")\n",
    "print(f\"Resultado em operacao_2 = {operacao_2}\")\n",
    "print(f\"Resultado em operacao_3 = {operacao_2}\")\n",
    "print(f\"Resultado em operacao_4 = {operacao_2}\")"
   ]
  },
  {
   "cell_type": "code",
   "execution_count": 16,
   "id": "1586c7af",
   "metadata": {},
   "outputs": [
    {
     "name": "stdout",
     "output_type": "stream",
     "text": [
      "Resultado em operacao_1 = 25\n",
      "Resultado em operacao_2 = 25\n",
      "Resultado em operacao_3 = 1.0\n",
      "Resultado em operacao_4 = 5\n"
     ]
    }
   ],
   "source": [
    "print(f\"Resultado em operacao_1 = {operacao_1}\")\n",
    "print(f\"Resultado em operacao_2 = {operacao_2}\")\n",
    "print(f\"Resultado em operacao_3 = {operacao_3}\")\n",
    "print(f\"Resultado em operacao_4 = {operacao_4}\")"
   ]
  },
  {
   "cell_type": "code",
   "execution_count": 17,
   "id": "736ce193",
   "metadata": {},
   "outputs": [
    {
     "name": "stdout",
     "output_type": "stream",
     "text": [
      "Resultado em operacao_1 = 25\n",
      "Resultado em operacao_2 = 25\n",
      "Resultado em operacao_3 = 1.0\n",
      "Resultado em operacao_4 = 5\n"
     ]
    }
   ],
   "source": [
    "print(f\"Resultado em operacao_1 = {operacao_1}\")\n",
    "print(f\"Resultado em operacao_2 = {operacao_2}\")\n",
    "print(f\"Resultado em operacao_3 = {operacao_3}\")\n",
    "print(f\"Resultado em operacao_4 = {operacao_4}\")"
   ]
  },
  {
   "cell_type": "code",
   "execution_count": 18,
   "id": "ad7498fb",
   "metadata": {},
   "outputs": [
    {
     "data": {
      "text/plain": [
       "17"
      ]
     },
     "execution_count": 18,
     "metadata": {},
     "output_type": "execute_result"
    }
   ],
   "source": [
    "2 + 3 * 5"
   ]
  },
  {
   "cell_type": "code",
   "execution_count": 20,
   "id": "3290bfee",
   "metadata": {},
   "outputs": [
    {
     "name": "stdout",
     "output_type": "stream",
     "text": [
      "Resultado em operacao_1 = 17\n",
      "Resultado em operacao_2 = 25\n",
      "Resultado em operacao_3 = 1.0\n",
      "Resultado em operacao_4 = 5\n"
     ]
    }
   ],
   "source": [
    "print(f\"Resultado em operacao_1 = {operacao_1}\")\n",
    "print(f\"Resultado em operacao_2 = {operacao_2}\")\n",
    "print(f\"Resultado em operacao_3 = {operacao_3}\")\n",
    "print(f\"Resultado em operacao_4 = {operacao_4}\")\n",
    "\n"
   ]
  },
  {
   "cell_type": "code",
   "execution_count": 23,
   "id": "98836d1d",
   "metadata": {},
   "outputs": [
    {
     "name": "stdout",
     "output_type": "stream",
     "text": [
      "Digite o valor de x: 3\n",
      "O resultado de y para x = 3.0 é 20.5.\n"
     ]
    }
   ],
   "source": [
    "a = 2\n",
    "b = 0.5\n",
    "c= 1\n",
    "x = input(\"Digite o valor de x: \")\n",
    "\n",
    "x = float(x) # aqui fazemos a conversão da string para o tipo numérico\n",
    "\n",
    "y = a * x ** 2 + b * x + c\n",
    "\n",
    "print(f\"O resultado de y para x = {x} é {y}.\")"
   ]
  },
  {
   "cell_type": "code",
   "execution_count": 22,
   "id": "2f475089",
   "metadata": {},
   "outputs": [
    {
     "name": "stdout",
     "output_type": "stream",
     "text": [
      "<class 'int'>\n",
      "<class 'float'>\n",
      "<class 'int'>\n",
      "<class 'str'>\n"
     ]
    }
   ],
   "source": [
    "print(type(a))\n",
    "print(type(b))\n",
    "print(type(c))\n",
    "print(type(x))"
   ]
  },
  {
   "cell_type": "code",
   "execution_count": 25,
   "id": "b585db44",
   "metadata": {},
   "outputs": [
    {
     "name": "stdout",
     "output_type": "stream",
     "text": [
      "Digite o mês que deseja saber o resultado: 3\n",
      "A quantidade de peças para o mês 3 será 600\n"
     ]
    }
   ],
   "source": [
    "c = 200 # valor constante\n",
    "\n",
    "mes = input(\"Digite o mês que deseja saber o resultado: \") # Função para captura o mês que o cliente digitar\n",
    "mes = int(mes) # Não esqueça de converter para numérico o valor captura pela função input()\n",
    "\n",
    "r = c * mes\n",
    "\n",
    "print(f\"A quantidade de peças para o mês {mes} será {r}\")\n",
    "\n"
   ]
  },
  {
   "cell_type": "code",
   "execution_count": 30,
   "id": "d2434e51",
   "metadata": {},
   "outputs": [
    {
     "name": "stdout",
     "output_type": "stream",
     "text": [
      "a é menor que b\n",
      "15\n"
     ]
    }
   ],
   "source": [
    "a = 5\n",
    "b = 10\n",
    "\n",
    "if a < b:\n",
    "    print(\"a é menor do que b\")\n",
    "    r = a + b\n",
    "    print(r)\n"
   ]
  },
  {
   "cell_type": "code",
   "execution_count": 31,
   "id": "abd74e01",
   "metadata": {},
   "outputs": [
    {
     "name": "stdout",
     "output_type": "stream",
     "text": [
      "a é maior do que b\n",
      "5\n"
     ]
    }
   ],
   "source": [
    "a = 10 \n",
    "b = 5\n",
    "if a < b:\n",
    "    print(\"a é menor que b\")\n",
    "    r = a + b\n",
    "    print(r)\n",
    "else:\n",
    "    print(\"a é maior do que b\")\n",
    "    r = a - b\n",
    "    print(r)"
   ]
  },
  {
   "cell_type": "code",
   "execution_count": 32,
   "id": "f4be2911",
   "metadata": {},
   "outputs": [
    {
     "name": "stdout",
     "output_type": "stream",
     "text": [
      "Código não cadastrado\n"
     ]
    }
   ],
   "source": [
    "codigo_compra = 5111\n",
    "\n",
    "if codigo_compra == 5222:\n",
    "    print(\"Compra à vista.\")\n",
    "elif codigo_compra == 5333:\n",
    "    print(\"Compra à prazo no boleto.\")\n",
    "elif codigo_compra == 5444:\n",
    "    print(\"Compra à prazo no cartão.\")\n",
    "else:\n",
    "    print(\"Código não cadastrado\")"
   ]
  },
  {
   "cell_type": "code",
   "execution_count": 34,
   "id": "9a23631b",
   "metadata": {},
   "outputs": [
    {
     "name": "stdout",
     "output_type": "stream",
     "text": [
      "Digite a quantidade de faltas: 4\n",
      "Digite a média: 5\n",
      "Aluno reprovado!\n"
     ]
    }
   ],
   "source": [
    "qntde_faltas = int(input(\"Digite a quantidade de faltas: \"))\n",
    "media_final = float(input(\"Digite a média: \"))\n",
    "\n",
    "if qntde_faltas <= 5 and media_final >= 7:\n",
    "    print(\"Aluno aprovado!\")\n",
    "else:\n",
    "    print(\"Aluno reprovado!\")\n",
    "\n"
   ]
  },
  {
   "cell_type": "code",
   "execution_count": 38,
   "id": "813f428b",
   "metadata": {},
   "outputs": [
    {
     "name": "stdout",
     "output_type": "stream",
     "text": [
      "False\n",
      "False\n"
     ]
    }
   ],
   "source": [
    "A = 15\n",
    "B = 60\n",
    "C = 9\n",
    "\n",
    "print(B == C or A < B and A < C)\n",
    "print((B == C or A < B) and A < C )"
   ]
  },
  {
   "cell_type": "markdown",
   "id": "30e564a7",
   "metadata": {},
   "source": [
    "Assim como as operações matemáticas possuem ordem de precedência, as operações booleanas também têm. Essa prioridade obedece à seguinte ordem: not primeiro, and em seguida e or por último"
   ]
  },
  {
   "cell_type": "code",
   "execution_count": 40,
   "id": "e0c48b30",
   "metadata": {},
   "outputs": [
    {
     "name": "stdout",
     "output_type": "stream",
     "text": [
      "Digite um número: 3\n",
      "Número ímpar!\n",
      "Digite um número: 2\n",
      "Número par!\n",
      "Digite um número: 0\n",
      "Número par!\n"
     ]
    }
   ],
   "source": [
    "numero = 1\n",
    "while numero != 0:\n",
    "    numero = int(input(\"Digite um número: \"))\n",
    "    if numero % 2 == 0:\n",
    "        print(\"Número par!\")\n",
    "    else:\n",
    "        print(\"Número ímpar!\")"
   ]
  },
  {
   "cell_type": "code",
   "execution_count": 41,
   "id": "0d111abc",
   "metadata": {},
   "outputs": [
    {
     "name": "stdout",
     "output_type": "stream",
     "text": [
      "Posição = 0, valor = W\n",
      "Posição = 1, valor = a\n",
      "Posição = 2, valor = l\n",
      "Posição = 3, valor = t\n",
      "Posição = 4, valor = e\n",
      "Posição = 5, valor = r\n"
     ]
    }
   ],
   "source": [
    "nome = \"Walter\"\n",
    "for i, c in enumerate(nome):\n",
    "    print(f\"Posição = {i}, valor = {c}\")"
   ]
  },
  {
   "cell_type": "code",
   "execution_count": 42,
   "id": "74ba2ded",
   "metadata": {},
   "outputs": [
    {
     "name": "stdout",
     "output_type": "stream",
     "text": [
      "0\n",
      "1\n",
      "2\n",
      "3\n",
      "4\n",
      "5\n",
      "6\n",
      "7\n",
      "8\n",
      "9\n",
      "0\n",
      "1\n",
      "2\n",
      "3\n",
      "4\n",
      "0\n",
      "2\n",
      "4\n",
      "6\n",
      "8\n",
      "10\n",
      "12\n",
      "14\n",
      "16\n",
      "18\n"
     ]
    }
   ],
   "source": [
    "# Método 1\n",
    "for i in range(10):\n",
    "    print(i)\n",
    "\n",
    "# Método 2\n",
    "for i in range(0, 5):\n",
    "    print(i)\n",
    "    \n",
    "#Método 3\n",
    "for i in range(0, 20, 2):\n",
    "    print(i)"
   ]
  },
  {
   "cell_type": "code",
   "execution_count": 45,
   "id": "e1f25cf7",
   "metadata": {},
   "outputs": [
    {
     "name": "stdout",
     "output_type": "stream",
     "text": [
      "L\n",
      "i\n",
      "n\n",
      "g\n",
      "u\n"
     ]
    }
   ],
   "source": [
    "disciplina = \"Linguagem de programação\"\n",
    "for c in disciplina:\n",
    "    if c == 'a':\n",
    "        break\n",
    "    else:\n",
    "        print(c)"
   ]
  },
  {
   "cell_type": "code",
   "execution_count": 46,
   "id": "a3004057",
   "metadata": {},
   "outputs": [
    {
     "name": "stdout",
     "output_type": "stream",
     "text": [
      "L\n",
      "i\n",
      "n\n",
      "g\n",
      "u\n",
      "g\n",
      "e\n",
      "m\n",
      " \n",
      "d\n",
      "e\n",
      " \n",
      "p\n",
      "r\n",
      "o\n",
      "g\n",
      "r\n",
      "m\n",
      "ç\n",
      "ã\n",
      "o\n"
     ]
    }
   ],
   "source": [
    "# Exemplo de uso do continue\n",
    "disciplina = \"Linguagem de programação\"\n",
    "for c in disciplina:\n",
    "    if c == 'a':\n",
    "        continue\n",
    "    else:\n",
    "        print(c)"
   ]
  },
  {
   "cell_type": "code",
   "execution_count": 47,
   "id": "bb5a52f7",
   "metadata": {},
   "outputs": [
    {
     "name": "stdout",
     "output_type": "stream",
     "text": [
      "Vogal 'e' encontrada, na posição 6\n",
      "Vogal 'e' encontrada, na posição 13\n",
      "Vogal 'e' encontrada, na posição 18\n",
      "Vogal 'a' encontrada, na posição 45\n",
      "Vogal 'a' encontrada, na posição 47\n",
      "Vogal 'a' encontrada, na posição 53\n",
      "Vogal 'a' encontrada, na posição 61\n",
      "Vogal 'a' encontrada, na posição 67\n",
      "Vogal 'a' encontrada, na posição 91\n",
      "Vogal 'a' encontrada, na posição 98\n",
      "Vogal 'e' encontrada, na posição 100\n",
      "Vogal 'e' encontrada, na posição 104\n",
      "Vogal 'a' encontrada, na posição 111\n",
      "Vogal 'a' encontrada, na posição 113\n",
      "Vogal 'e' encontrada, na posição 119\n",
      "Vogal 'a' encontrada, na posição 122\n",
      "Vogal 'a' encontrada, na posição 127\n",
      "Vogal 'a' encontrada, na posição 130\n",
      "Vogal 'e' encontrada, na posição 132\n",
      "Vogal 'a' encontrada, na posição 135\n",
      "Vogal 'e' encontrada, na posição 138\n",
      "Vogal 'e' encontrada, na posição 141\n",
      "Vogal 'e' encontrada, na posição 151\n",
      "Vogal 'e' encontrada, na posição 156\n",
      "Vogal 'e' encontrada, na posição 166\n",
      "Vogal 'a' encontrada, na posição 168\n",
      "Vogal 'e' encontrada, na posição 174\n",
      "Vogal 'a' encontrada, na posição 190\n",
      "Vogal 'a' encontrada, na posição 192\n",
      "Vogal 'e' encontrada, na posição 201\n",
      "Vogal 'a' encontrada, na posição 209\n",
      "Vogal 'a' encontrada, na posição 216\n",
      "Vogal 'e' encontrada, na posição 220\n",
      "Vogal 'e' encontrada, na posição 227\n",
      "Vogal 'e' encontrada, na posição 230\n",
      "Vogal 'a' encontrada, na posição 234\n",
      "Vogal 'e' encontrada, na posição 237\n",
      "Vogal 'e' encontrada, na posição 252\n",
      "Vogal 'a' encontrada, na posição 254\n",
      "Vogal 'a' encontrada, na posição 257\n",
      "Vogal 'a' encontrada, na posição 259\n",
      "Vogal 'e' encontrada, na posição 266\n",
      "Vogal 'a' encontrada, na posição 278\n",
      "Vogal 'a' encontrada, na posição 280\n",
      "Vogal 'a' encontrada, na posição 282\n",
      "Vogal 'a' encontrada, na posição 289\n",
      "Vogal 'a' encontrada, na posição 294\n",
      "Vogal 'e' encontrada, na posição 297\n",
      "Vogal 'a' encontrada, na posição 309\n",
      "Vogal 'e' encontrada, na posição 323\n",
      "Vogal 'e' encontrada, na posição 325\n",
      "Vogal 'a' encontrada, na posição 328\n"
     ]
    }
   ],
   "source": [
    "texto = \"\"\"\n",
    "A inserção de comentários no código do programa é uma prática normal.\n",
    "Em função disso, toda linguagem de programação tem alguma maneira de permitir que comentários sejam inseridos nos programas.\n",
    "O objetivo é adicionar descrições em partes do código, seja para documentá-lo ou para adicionar uma descrição do algoritmo implementado (BANIN, p. 45, 2018).\"\n",
    "\"\"\"\n",
    "for i, c in enumerate(texto):\n",
    "    if c == 'a' or c == 'e':\n",
    "        print(f\"Vogal '{c}' encontrada, na posição {i}\")\n",
    "    else:\n",
    "        continue"
   ]
  },
  {
   "cell_type": "code",
   "execution_count": null,
   "id": "ab39b021",
   "metadata": {},
   "outputs": [],
   "source": [
    "salario_mensal = input(\"Digite o seu salário mensal: \")\n",
    "salario_mensal = float(salario_mensal)\n",
    "\n",
    "horas_trabalhadas_por_mes = input(\"Digite quantas horas você trabalha por mês: \")\n",
    "horas_trabalhadas_por_mes = int(horas_trabalhadas_por_mes)\n",
    "\n",
    "salario_por_hora = salario_mensal / horas_trabalhadas_por_mes\n",
    "\n",
    "print(\"Seu salario por hora será {:.2f}\".format(salario_por_hora))"
   ]
  },
  {
   "cell_type": "code",
   "execution_count": null,
   "id": "5715bdd4",
   "metadata": {},
   "outputs": [],
   "source": []
  }
 ],
 "metadata": {
  "kernelspec": {
   "display_name": "Python 3 (ipykernel)",
   "language": "python",
   "name": "python3"
  },
  "language_info": {
   "codemirror_mode": {
    "name": "ipython",
    "version": 3
   },
   "file_extension": ".py",
   "mimetype": "text/x-python",
   "name": "python",
   "nbconvert_exporter": "python",
   "pygments_lexer": "ipython3",
   "version": "3.10.9"
  }
 },
 "nbformat": 4,
 "nbformat_minor": 5
}
